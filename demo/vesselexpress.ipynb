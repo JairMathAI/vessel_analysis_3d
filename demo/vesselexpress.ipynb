{
 "cells": [
  {
   "cell_type": "code",
   "execution_count": 1,
   "metadata": {},
   "outputs": [],
   "source": [
    "# This is a demo of using vessel_analysis_3d to perform quantitative analysis\n",
    "# on the data released with VesselExpress: https://zenodo.org/record/6025935#.ZCUzu-zP0SI\n",
    "\n",
    "# suppose the data has been downloaded from Zenodo and saved at base_path\n",
    "from pathlib import Path\n",
    "import numpy as np\n",
    "import pandas as pd\n",
    "from vessel_analysis_3d.processing_pipeline import Pipeline3D\n",
    "from skimage.morphology import skeletonize\n",
    "from aicsimageio import AICSImage\n",
    "\n",
    "base_path = Path(\"/mnt/eternus/project_data/vesselexpress\")\n",
    "data_path = base_path / Path(\"Figure3\")"
   ]
  },
  {
   "cell_type": "code",
   "execution_count": 2,
   "metadata": {},
   "outputs": [],
   "source": [
    "PARAMS = {\n",
    "    \"pixelDimensions\": [2.0, 1.015625, 1.015625],\n",
    "    \"pruningScale\": 1.5,\n",
    "    \"lengthLimit\": 3,\n",
    "    \"diaScale\": 2,\n",
    "    \"branchingThreshold\": 0.25\n",
    "}"
   ]
  },
  {
   "cell_type": "code",
   "execution_count": 3,
   "metadata": {},
   "outputs": [
    {
     "name": "stderr",
     "output_type": "stream",
     "text": [
      "/mnt/eternus/users/Jianxu/projects/vessel_analysis_3d/vessel_analysis_3d/graph/filament.py:345: RuntimeWarning: invalid value encountered in double_scalars\n",
      "  curveDisplacement / segLength\n"
     ]
    }
   ],
   "source": [
    "area_list = [\"Cortex\", \"Hippocampus\", \"Midbrain\", \"Striatum\"]\n",
    "all_stats = []\n",
    "fil_stats = []\n",
    "brp_stats = []\n",
    "for area in area_list:\n",
    "    set_path = data_path / f\"{area}\" / Path(\"Binary\")\n",
    "    filenames = sorted(set_path.glob(\"Binary*.tiff\"))\n",
    "    for fn in filenames:\n",
    "        SEG = AICSImage(fn).get_image_data(\"ZYX\", C=0, T=0)\n",
    "\n",
    "        fn_base = fn.stem[7:]\n",
    "        if fn_base.startswith(\"control\"):\n",
    "            group_tag = \"control\"\n",
    "        elif fn_base.startswith(\"ob\") or fn_base.startswith(\"OB\"):\n",
    "            group_tag = \"obesity\"\n",
    "        else:\n",
    "            raise ValueError(f\"unrecognized group name {fn_base}\")\n",
    "\n",
    "        # get preliminary skeleton\n",
    "        SKL = skeletonize(SEG > 0, method=\"lee\")\n",
    "        SKL = SKL.astype(np.uint8)\n",
    "        SKL[SKL > 0] = 1\n",
    "\n",
    "        # get stats\n",
    "        _, _, _, reports = Pipeline3D.process_one_file(SEG, SKL, param_dict=PARAMS, basename=fn_base)\n",
    "\n",
    "        tab_all = reports[0]\n",
    "        tab_all[\"area\"] = area\n",
    "        tab_all[\"group\"] = group_tag\n",
    "        all_stats.append(tab_all)\n",
    "\n",
    "        tab_fil = reports[1]\n",
    "        tab_fil[\"area\"] = area\n",
    "        tab_fil[\"group\"] = group_tag\n",
    "        fil_stats.append(tab_fil)\n",
    "\n",
    "        tab_brp = reports[2]\n",
    "        tab_brp[\"area\"] = area\n",
    "        tab_brp[\"group\"] = group_tag\n",
    "        brp_stats.append(tab_brp)\n",
    "\n",
    "df_all = pd.concat(all_stats)\n",
    "df_fil = pd.concat(fil_stats)\n",
    "df_brp = pd.concat(brp_stats)"
   ]
  },
  {
   "cell_type": "code",
   "execution_count": 5,
   "metadata": {},
   "outputs": [],
   "source": [
    "df_all.to_csv(\"basic_stats.csv\", index=False)\n",
    "df_fil.to_csv(\"filament_stats.csv\", index=False)\n",
    "df_brp.to_csv(\"branching_point_stats.csv\", index=False)"
   ]
  },
  {
   "cell_type": "code",
   "execution_count": null,
   "metadata": {},
   "outputs": [],
   "source": []
  }
 ],
 "metadata": {
  "kernelspec": {
   "display_name": "jc_workbench",
   "language": "python",
   "name": "python3"
  },
  "language_info": {
   "codemirror_mode": {
    "name": "ipython",
    "version": 3
   },
   "file_extension": ".py",
   "mimetype": "text/x-python",
   "name": "python",
   "nbconvert_exporter": "python",
   "pygments_lexer": "ipython3",
   "version": "3.9.13"
  },
  "orig_nbformat": 4,
  "vscode": {
   "interpreter": {
    "hash": "f0a6b497edbe280d9c9c3fe7b26d28e91277df791e6ef10dec6644aa4f1f4e76"
   }
  }
 },
 "nbformat": 4,
 "nbformat_minor": 2
}
